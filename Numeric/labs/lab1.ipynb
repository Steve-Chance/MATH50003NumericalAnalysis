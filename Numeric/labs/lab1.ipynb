{
 "cells": [
  {
   "cell_type": "markdown",
   "metadata": {},
   "source": [
    "# MATH50003 (2022–23)\n",
    "# Lab 1: Introduction to Julia\n",
    "\n",
    "This problem sheet is designed to introduce some basic Julia\n",
    "knowledge. Note each problem has multiple solutions, and the solution\n",
    "sheet will show different ways of solving the same problem. We will discuss the\n",
    "following:\n",
    "\n",
    "1. Integers\n",
    "2. Reals\n",
    "2. Strings and parsing\n",
    "3. Types\n",
    "\n",
    "In assessment, _any_ \"solution\" will be accepted provided it does the right thing!\n",
    "So you do not need to be able to write broadcasting or comprehensions\n",
    "if you can do for loops.\n",
    "\n",
    "We load the following packages:"
   ]
  },
  {
   "cell_type": "code",
   "execution_count": 1,
   "metadata": {
    "execution": {
     "iopub.execute_input": "2023-01-12T21:30:59.945066Z",
     "iopub.status.busy": "2023-01-12T21:30:59.348526Z",
     "iopub.status.idle": "2023-01-12T21:31:00.198351Z",
     "shell.execute_reply": "2023-01-12T21:31:00.197777Z"
    }
   },
   "outputs": [],
   "source": [
    "using ColorBitstring, Test"
   ]
  },
  {
   "cell_type": "markdown",
   "metadata": {},
   "source": [
    "## 1. Integers\n",
    "\n",
    "Every primitive number type is stored as a sequence of bits. \n",
    "The number of _bytes_ (i.e. 8-bits) can be deduced using the `sizeof` function:"
   ]
  },
  {
   "cell_type": "code",
   "execution_count": 2,
   "metadata": {
    "execution": {
     "iopub.execute_input": "2023-01-12T21:31:00.201215Z",
     "iopub.status.busy": "2023-01-12T21:31:00.200463Z",
     "iopub.status.idle": "2023-01-12T21:31:00.721094Z",
     "shell.execute_reply": "2023-01-12T21:31:00.720558Z"
    }
   },
   "outputs": [
    {
     "data": {
      "text/plain": [
       "4"
      ]
     },
     "execution_count": 2,
     "metadata": {},
     "output_type": "execute_result"
    }
   ],
   "source": [
    "sizeof(UInt32) # 4 bytes == 4*8 bits == 32 bits"
   ]
  },
  {
   "cell_type": "markdown",
   "metadata": {},
   "source": [
    "The function `typeof` can be used to determine the type of a number.\n",
    "By default when we write an integer (e.g. `-123`) it is of type `Int`:"
   ]
  },
  {
   "cell_type": "code",
   "execution_count": 3,
   "metadata": {
    "execution": {
     "iopub.execute_input": "2023-01-12T21:31:00.723176Z",
     "iopub.status.busy": "2023-01-12T21:31:00.722607Z",
     "iopub.status.idle": "2023-01-12T21:31:01.199600Z",
     "shell.execute_reply": "2023-01-12T21:31:01.199176Z"
    }
   },
   "outputs": [
    {
     "data": {
      "text/plain": [
       "Int64"
      ]
     },
     "execution_count": 3,
     "metadata": {},
     "output_type": "execute_result"
    }
   ],
   "source": [
    "typeof(5)"
   ]
  },
  {
   "cell_type": "markdown",
   "metadata": {},
   "source": [
    "**Problem 1.1** Use `sizeof` to determine how many bits your machine uses for the type `Int`."
   ]
  },
  {
   "cell_type": "code",
   "execution_count": null,
   "metadata": {},
   "outputs": [],
   "source": []
  },
  {
   "cell_type": "markdown",
   "metadata": {},
   "source": [
    "There are a few ways to create other types of integers. Conversion\n",
    "converts between different types:"
   ]
  },
  {
   "cell_type": "code",
   "execution_count": 4,
   "metadata": {
    "execution": {
     "iopub.execute_input": "2023-01-12T21:31:01.202400Z",
     "iopub.status.busy": "2023-01-12T21:31:01.201694Z",
     "iopub.status.idle": "2023-01-12T21:31:01.430557Z",
     "shell.execute_reply": "2023-01-12T21:31:01.429411Z"
    }
   },
   "outputs": [
    {
     "data": {
      "text/plain": [
       "0x05"
      ]
     },
     "execution_count": 4,
     "metadata": {},
     "output_type": "execute_result"
    }
   ],
   "source": [
    "UInt8(5) # converts an `Int` to an `UInt8`, displaying the result in hex"
   ]
  },
  {
   "cell_type": "markdown",
   "metadata": {},
   "source": [
    "This fails if a number cannot be represented as a specified type:"
   ]
  },
  {
   "cell_type": "code",
   "execution_count": 5,
   "metadata": {
    "execution": {
     "iopub.execute_input": "2023-01-12T21:31:01.436886Z",
     "iopub.status.busy": "2023-01-12T21:31:01.434961Z",
     "iopub.status.idle": "2023-01-12T21:31:02.763292Z",
     "shell.execute_reply": "2023-01-12T21:31:02.762795Z"
    }
   },
   "outputs": [
    {
     "ename": "LoadError",
     "evalue": "InexactError: trunc(UInt8, -5)",
     "output_type": "error",
     "traceback": [
      "InexactError: trunc(UInt8, -5)",
      "",
      "Stacktrace:",
      " [1] throw_inexacterror(f::Symbol, #unused#::Type{UInt8}, val::Int64)",
      "   @ Core ./boot.jl:614",
      " [2] checked_trunc_uint",
      "   @ ./boot.jl:644 [inlined]",
      " [3] toUInt8",
      "   @ ./boot.jl:706 [inlined]",
      " [4] UInt8(x::Int64)",
      "   @ Core ./boot.jl:766",
      " [5] top-level scope",
      "   @ In[5]:1"
     ]
    }
   ],
   "source": [
    "UInt8(-5) # No negative numbers"
   ]
  },
  {
   "cell_type": "code",
   "execution_count": 6,
   "metadata": {
    "execution": {
     "iopub.execute_input": "2023-01-12T21:31:02.765474Z",
     "iopub.status.busy": "2023-01-12T21:31:02.764899Z",
     "iopub.status.idle": "2023-01-12T21:31:02.773136Z",
     "shell.execute_reply": "2023-01-12T21:31:02.772675Z"
    }
   },
   "outputs": [
    {
     "ename": "LoadError",
     "evalue": "InexactError: trunc(UInt8, 256)",
     "output_type": "error",
     "traceback": [
      "InexactError: trunc(UInt8, 256)",
      "",
      "Stacktrace:",
      " [1] throw_inexacterror(f::Symbol, #unused#::Type{UInt8}, val::Int64)",
      "   @ Core ./boot.jl:614",
      " [2] checked_trunc_uint",
      "   @ ./boot.jl:644 [inlined]",
      " [3] toUInt8",
      "   @ ./boot.jl:706 [inlined]",
      " [4] UInt8(x::Int64)",
      "   @ Core ./boot.jl:766",
      " [5] top-level scope",
      "   @ In[6]:1"
     ]
    }
   ],
   "source": [
    "UInt8(2^8) # no numbers above 2^8-1"
   ]
  },
  {
   "cell_type": "markdown",
   "metadata": {},
   "source": [
    "(These can also be written as e.g. `convert(UInt8, 5)`.)\n",
    "We can also create unsigned integers by specifying their bits\n",
    "by writing `0b` followed by a sequence of bits:"
   ]
  },
  {
   "cell_type": "code",
   "execution_count": 7,
   "metadata": {
    "execution": {
     "iopub.execute_input": "2023-01-12T21:31:02.775567Z",
     "iopub.status.busy": "2023-01-12T21:31:02.774803Z",
     "iopub.status.idle": "2023-01-12T21:31:02.777664Z",
     "shell.execute_reply": "2023-01-12T21:31:02.776164Z"
    }
   },
   "outputs": [
    {
     "data": {
      "text/plain": [
       "0x05"
      ]
     },
     "execution_count": 7,
     "metadata": {},
     "output_type": "execute_result"
    }
   ],
   "source": [
    "0b101 # isa UInt8, the smallest type with at least 3 bits"
   ]
  },
  {
   "cell_type": "code",
   "execution_count": 8,
   "metadata": {
    "execution": {
     "iopub.execute_input": "2023-01-12T21:31:02.779915Z",
     "iopub.status.busy": "2023-01-12T21:31:02.779302Z",
     "iopub.status.idle": "2023-01-12T21:31:03.030298Z",
     "shell.execute_reply": "2023-01-12T21:31:03.029861Z"
    }
   },
   "outputs": [
    {
     "data": {
      "text/plain": [
       "0x05dd"
      ]
     },
     "execution_count": 8,
     "metadata": {},
     "output_type": "execute_result"
    }
   ],
   "source": [
    "0b10111011101 # isa UInt16, the smallest type with at least 11 bits"
   ]
  },
  {
   "cell_type": "markdown",
   "metadata": {},
   "source": [
    "Or in base-16 using hexadecimal format (with digits `0–9a–f` following\n",
    "an `0x`):"
   ]
  },
  {
   "cell_type": "code",
   "execution_count": 9,
   "metadata": {
    "execution": {
     "iopub.execute_input": "2023-01-12T21:31:03.032431Z",
     "iopub.status.busy": "2023-01-12T21:31:03.031854Z",
     "iopub.status.idle": "2023-01-12T21:31:03.262942Z",
     "shell.execute_reply": "2023-01-12T21:31:03.262397Z"
    }
   },
   "outputs": [
    {
     "data": {
      "text/plain": [
       "0x000abcde"
      ]
     },
     "execution_count": 9,
     "metadata": {},
     "output_type": "execute_result"
    }
   ],
   "source": [
    "0xabcde # isa UInt32, the smallest type with at least 16*5 = 80 bits"
   ]
  },
  {
   "cell_type": "markdown",
   "metadata": {},
   "source": [
    "**Problem 1.2** Use binary format to create an `Int` corresponding to $(101101)_2$."
   ]
  },
  {
   "cell_type": "code",
   "execution_count": null,
   "metadata": {},
   "outputs": [],
   "source": []
  },
  {
   "cell_type": "markdown",
   "metadata": {},
   "source": [
    "**Problem 1.3** What happens if you specify more than 64 bits using `0b⋅⋅…⋅⋅`? \n",
    "What if you specify more than 128 bits?"
   ]
  },
  {
   "cell_type": "code",
   "execution_count": null,
   "metadata": {},
   "outputs": [],
   "source": []
  },
  {
   "cell_type": "markdown",
   "metadata": {},
   "source": [
    "We can also reinterpret a sequence of bits in a different format:"
   ]
  },
  {
   "cell_type": "code",
   "execution_count": 10,
   "metadata": {
    "execution": {
     "iopub.execute_input": "2023-01-12T21:31:03.265389Z",
     "iopub.status.busy": "2023-01-12T21:31:03.264811Z",
     "iopub.status.idle": "2023-01-12T21:31:03.491851Z",
     "shell.execute_reply": "2023-01-12T21:31:03.491414Z"
    }
   },
   "outputs": [
    {
     "data": {
      "text/plain": [
       "-1"
      ]
     },
     "execution_count": 10,
     "metadata": {},
     "output_type": "execute_result"
    }
   ],
   "source": [
    "reinterpret(Int8, 0b11111111) # Create an Int8 with the bits 11111111"
   ]
  },
  {
   "cell_type": "markdown",
   "metadata": {},
   "source": [
    "Arithmetic follows modular arithmetic. The following examples test your understanding of this.\n",
    "\n",
    "**Problem 1.5** Can you predict what the output of the following will be before hitting return?"
   ]
  },
  {
   "cell_type": "code",
   "execution_count": 11,
   "metadata": {
    "execution": {
     "iopub.execute_input": "2023-01-12T21:31:03.494003Z",
     "iopub.status.busy": "2023-01-12T21:31:03.493436Z",
     "iopub.status.idle": "2023-01-12T21:31:03.497863Z",
     "shell.execute_reply": "2023-01-12T21:31:03.497335Z"
    }
   },
   "outputs": [],
   "source": [
    "UInt8(120) + UInt8(10); # Convert to `Int` to see the number printed in decimal"
   ]
  },
  {
   "cell_type": "code",
   "execution_count": 12,
   "metadata": {
    "execution": {
     "iopub.execute_input": "2023-01-12T21:31:03.499907Z",
     "iopub.status.busy": "2023-01-12T21:31:03.499342Z",
     "iopub.status.idle": "2023-01-12T21:31:03.503835Z",
     "shell.execute_reply": "2023-01-12T21:31:03.503405Z"
    }
   },
   "outputs": [],
   "source": [
    "Int8(120) + Int8(10);"
   ]
  },
  {
   "cell_type": "code",
   "execution_count": 13,
   "metadata": {
    "execution": {
     "iopub.execute_input": "2023-01-12T21:31:03.505891Z",
     "iopub.status.busy": "2023-01-12T21:31:03.505301Z",
     "iopub.status.idle": "2023-01-12T21:31:03.526692Z",
     "shell.execute_reply": "2023-01-12T21:31:03.526183Z"
    }
   },
   "outputs": [],
   "source": [
    "UInt8(2)^7;"
   ]
  },
  {
   "cell_type": "code",
   "execution_count": 14,
   "metadata": {
    "execution": {
     "iopub.execute_input": "2023-01-12T21:31:03.528767Z",
     "iopub.status.busy": "2023-01-12T21:31:03.528196Z",
     "iopub.status.idle": "2023-01-12T21:31:03.549668Z",
     "shell.execute_reply": "2023-01-12T21:31:03.549232Z"
    }
   },
   "outputs": [],
   "source": [
    "Int8(2)^7;"
   ]
  },
  {
   "cell_type": "code",
   "execution_count": 15,
   "metadata": {
    "execution": {
     "iopub.execute_input": "2023-01-12T21:31:03.551686Z",
     "iopub.status.busy": "2023-01-12T21:31:03.551117Z",
     "iopub.status.idle": "2023-01-12T21:31:03.555754Z",
     "shell.execute_reply": "2023-01-12T21:31:03.555255Z"
    }
   },
   "outputs": [],
   "source": [
    "Int8(2)^8;"
   ]
  },
  {
   "cell_type": "markdown",
   "metadata": {},
   "source": [
    "## 2. Reals\n",
    "\n",
    "Real numbers interpret a sequence of bits in floating point format. \n",
    "\n",
    "**Problem 2.1** Use `printbits` to guess the binary representation of $1/5$."
   ]
  },
  {
   "cell_type": "code",
   "execution_count": null,
   "metadata": {},
   "outputs": [],
   "source": []
  },
  {
   "cell_type": "markdown",
   "metadata": {},
   "source": [
    "**Problem 2.2** Create a positive `Float16` whose exponent is $q = 156$ and has significand\n",
    "bits\n",
    "$$\n",
    "b_k = \\begin{cases}\n",
    "    1 & k\\hbox{ is prime} \\\\\n",
    "    0 & \\hbox{otherwise}\n",
    "    \\end{cases}\n",
    "$$"
   ]
  },
  {
   "cell_type": "code",
   "execution_count": null,
   "metadata": {},
   "outputs": [],
   "source": []
  },
  {
   "cell_type": "markdown",
   "metadata": {},
   "source": [
    "**Problem 2.3** Create the smallest postive non-zero sub-normal `Float16` by specifying\n",
    "its bits."
   ]
  },
  {
   "cell_type": "code",
   "execution_count": null,
   "metadata": {},
   "outputs": [],
   "source": []
  },
  {
   "cell_type": "markdown",
   "metadata": {},
   "source": [
    "## 3. Strings and parsing\n",
    "\n",
    "Strings are a convenient way of representing arbitrary strings of digits.\n",
    "For example we can convert bits of a number to a string of \"1\"s and \"0\"s using the function `bitstring`.\n",
    "\n",
    "**Problem 3.1** Can you predict what the output of the following will be before hitting return?"
   ]
  },
  {
   "cell_type": "code",
   "execution_count": 16,
   "metadata": {
    "execution": {
     "iopub.execute_input": "2023-01-12T21:31:03.558601Z",
     "iopub.status.busy": "2023-01-12T21:31:03.558019Z",
     "iopub.status.idle": "2023-01-12T21:31:03.574367Z",
     "shell.execute_reply": "2023-01-12T21:31:03.573934Z"
    }
   },
   "outputs": [],
   "source": [
    "bitstring(11);  # Semi-colon prohibits output, delete to check your answer"
   ]
  },
  {
   "cell_type": "code",
   "execution_count": 17,
   "metadata": {
    "execution": {
     "iopub.execute_input": "2023-01-12T21:31:03.577009Z",
     "iopub.status.busy": "2023-01-12T21:31:03.576054Z",
     "iopub.status.idle": "2023-01-12T21:31:03.578311Z",
     "shell.execute_reply": "2023-01-12T21:31:03.577668Z"
    }
   },
   "outputs": [],
   "source": [
    "bitstring(-11);"
   ]
  },
  {
   "cell_type": "markdown",
   "metadata": {},
   "source": [
    "We can `parse` a string of digits in base 2 or 10:"
   ]
  },
  {
   "cell_type": "code",
   "execution_count": 18,
   "metadata": {
    "execution": {
     "iopub.execute_input": "2023-01-12T21:31:03.581146Z",
     "iopub.status.busy": "2023-01-12T21:31:03.580541Z",
     "iopub.status.idle": "2023-01-12T21:31:03.955558Z",
     "shell.execute_reply": "2023-01-12T21:31:03.955053Z"
    }
   },
   "outputs": [
    {
     "data": {
      "text/plain": [
       "(3, 11)"
      ]
     },
     "execution_count": 18,
     "metadata": {},
     "output_type": "execute_result"
    }
   ],
   "source": [
    "parse(Int8, \"11\"; base=2), \n",
    "parse(Int8, \"00001011\"; base=2)"
   ]
  },
  {
   "cell_type": "markdown",
   "metadata": {},
   "source": [
    "Be careful with \"negative\" numbers:"
   ]
  },
  {
   "cell_type": "code",
   "execution_count": 19,
   "metadata": {
    "execution": {
     "iopub.execute_input": "2023-01-12T21:31:03.957730Z",
     "iopub.status.busy": "2023-01-12T21:31:03.957130Z",
     "iopub.status.idle": "2023-01-12T21:31:04.012964Z",
     "shell.execute_reply": "2023-01-12T21:31:04.012529Z"
    }
   },
   "outputs": [
    {
     "ename": "LoadError",
     "evalue": "OverflowError: overflow parsing \"10001011\"",
     "output_type": "error",
     "traceback": [
      "OverflowError: overflow parsing \"10001011\"",
      "",
      "Stacktrace:",
      " [1] tryparse_internal(#unused#::Type{Int8}, s::String, startpos::Int64, endpos::Int64, base_::Int64, raise::Bool)",
      "   @ Base ./parse.jl:163",
      " [2] parse(::Type{Int8}, s::String; base::Int64)",
      "   @ Base ./parse.jl:241",
      " [3] top-level scope",
      "   @ In[19]:1"
     ]
    }
   ],
   "source": [
    "parse(Int8, \"10001011\"; base=2)"
   ]
  },
  {
   "cell_type": "markdown",
   "metadata": {},
   "source": [
    "It treats the string as binary digits, NOT bits. That is, negative numbers\n",
    "are represented using the minus sign:"
   ]
  },
  {
   "cell_type": "code",
   "execution_count": 20,
   "metadata": {
    "execution": {
     "iopub.execute_input": "2023-01-12T21:31:04.015364Z",
     "iopub.status.busy": "2023-01-12T21:31:04.014608Z",
     "iopub.status.idle": "2023-01-12T21:31:04.017200Z",
     "shell.execute_reply": "2023-01-12T21:31:04.016724Z"
    }
   },
   "outputs": [
    {
     "data": {
      "text/plain": [
       "-11"
      ]
     },
     "execution_count": 20,
     "metadata": {},
     "output_type": "execute_result"
    }
   ],
   "source": [
    "parse(Int8, \"-00001011\"; base=2)"
   ]
  },
  {
   "cell_type": "markdown",
   "metadata": {},
   "source": [
    "**Problem 3.2** Combine `parse`, `reinterpret`, and `UInt8` to convert the\n",
    "above string to a (negative) `Int8` with the specified bits.\n",
    "\n",
    "\n",
    "To concatenate strings we use `*` (multiplication is used because string concatenation\n",
    "is non-commutative):"
   ]
  },
  {
   "cell_type": "code",
   "execution_count": 21,
   "metadata": {
    "execution": {
     "iopub.execute_input": "2023-01-12T21:31:04.019517Z",
     "iopub.status.busy": "2023-01-12T21:31:04.018950Z",
     "iopub.status.idle": "2023-01-12T21:31:04.549158Z",
     "shell.execute_reply": "2023-01-12T21:31:04.548722Z"
    }
   },
   "outputs": [
    {
     "data": {
      "text/plain": [
       "\"hibye\""
      ]
     },
     "execution_count": 21,
     "metadata": {},
     "output_type": "execute_result"
    }
   ],
   "source": [
    "\"hi\" * \"bye\""
   ]
  },
  {
   "cell_type": "markdown",
   "metadata": {},
   "source": [
    "The string consisting of the first nine characters can be found using `str[1:9]` where `str` is any string:"
   ]
  },
  {
   "cell_type": "code",
   "execution_count": 22,
   "metadata": {
    "execution": {
     "iopub.execute_input": "2023-01-12T21:31:04.551612Z",
     "iopub.status.busy": "2023-01-12T21:31:04.550687Z",
     "iopub.status.idle": "2023-01-12T21:31:04.553732Z",
     "shell.execute_reply": "2023-01-12T21:31:04.553297Z"
    }
   },
   "outputs": [
    {
     "data": {
      "text/plain": [
       "\"hibye0123\""
      ]
     },
     "execution_count": 22,
     "metadata": {},
     "output_type": "execute_result"
    }
   ],
   "source": [
    "str=\"hibye0123445556\"\n",
    "str[1:9]  # returns \"hibye0123\""
   ]
  },
  {
   "cell_type": "markdown",
   "metadata": {},
   "source": [
    "The string consisting of the 11th through last character can be found using `str[11:end]`:"
   ]
  },
  {
   "cell_type": "code",
   "execution_count": 23,
   "metadata": {
    "execution": {
     "iopub.execute_input": "2023-01-12T21:31:04.556057Z",
     "iopub.status.busy": "2023-01-12T21:31:04.555329Z",
     "iopub.status.idle": "2023-01-12T21:31:04.557952Z",
     "shell.execute_reply": "2023-01-12T21:31:04.557507Z"
    }
   },
   "outputs": [
    {
     "data": {
      "text/plain": [
       "\"45556\""
      ]
     },
     "execution_count": 23,
     "metadata": {},
     "output_type": "execute_result"
    }
   ],
   "source": [
    "str=\"hibye0123445556\"\n",
    "str[11:end]  # returns \"45556\""
   ]
  },
  {
   "cell_type": "markdown",
   "metadata": {},
   "source": [
    "**Problem 3.3** Complete the following function that sets the 10th bit of an `Int32` to `1`,\n",
    "and returns an `Int32`, assuming that the input is a positive integer, using `bitstring`,\n",
    "`parse` and `*`."
   ]
  },
  {
   "cell_type": "code",
   "execution_count": 24,
   "metadata": {
    "execution": {
     "iopub.execute_input": "2023-01-12T21:31:04.560107Z",
     "iopub.status.busy": "2023-01-12T21:31:04.559532Z",
     "iopub.status.idle": "2023-01-12T21:31:05.167874Z",
     "shell.execute_reply": "2023-01-12T21:31:05.167431Z"
    }
   },
   "outputs": [
    {
     "name": "stdout",
     "output_type": "stream",
     "text": [
      "\u001b[91m\u001b[1mTest Failed\u001b[22m\u001b[39m at \u001b[39m\u001b[1mIn[24]:6\u001b[22m\n",
      "  Expression: tenthbitto1(Int32(100)) ≡ Int32(4194404)\n",
      "   Evaluated: nothing ≡ 4194404\n"
     ]
    },
    {
     "ename": "LoadError",
     "evalue": "\u001b[91mThere was an error during testing\u001b[39m",
     "output_type": "error",
     "traceback": [
      "\u001b[91mThere was an error during testing\u001b[39m",
      "",
      "Stacktrace:",
      " [1] record(ts::Test.FallbackTestSet, t::Union{Test.Error, Test.Fail})",
      "   @ Test ~/Projects/julia-1.8/usr/share/julia/stdlib/v1.8/Test/src/Test.jl:943",
      " [2] do_test(result::Test.ExecutionResult, orig_expr::Any)",
      "   @ Test ~/Projects/julia-1.8/usr/share/julia/stdlib/v1.8/Test/src/Test.jl:656",
      " [3] top-level scope",
      "   @ ~/Projects/julia-1.8/usr/share/julia/stdlib/v1.8/Test/src/Test.jl:464"
     ]
    }
   ],
   "source": [
    "function tenthbitto1(x::Int32)\n",
    "    ## TODO: change the 10th bit of `x` to 1\n",
    "end\n",
    "\n",
    "# unit tests are to help you check your result\n",
    "@test tenthbitto1(Int32(100)) ≡ Int32(4194404)"
   ]
  },
  {
   "cell_type": "markdown",
   "metadata": {},
   "source": [
    "**Problem 3.4**  Modify the previous function to also work with negative numbers."
   ]
  },
  {
   "cell_type": "code",
   "execution_count": 25,
   "metadata": {
    "execution": {
     "iopub.execute_input": "2023-01-12T21:31:05.170289Z",
     "iopub.status.busy": "2023-01-12T21:31:05.169608Z",
     "iopub.status.idle": "2023-01-12T21:31:05.177335Z",
     "shell.execute_reply": "2023-01-12T21:31:05.176793Z"
    }
   },
   "outputs": [
    {
     "name": "stdout",
     "output_type": "stream",
     "text": [
      "\u001b[91m\u001b[1mTest Failed\u001b[22m\u001b[39m at \u001b[39m\u001b[1mIn[25]:5\u001b[22m\n",
      "  Expression: tenthbitto1(-(Int32(100))) ≡ Int32(4194404)\n",
      "   Evaluated: nothing ≡ 4194404\n"
     ]
    },
    {
     "ename": "LoadError",
     "evalue": "\u001b[91mThere was an error during testing\u001b[39m",
     "output_type": "error",
     "traceback": [
      "\u001b[91mThere was an error during testing\u001b[39m",
      "",
      "Stacktrace:",
      " [1] record(ts::Test.FallbackTestSet, t::Union{Test.Error, Test.Fail})",
      "   @ Test ~/Projects/julia-1.8/usr/share/julia/stdlib/v1.8/Test/src/Test.jl:943",
      " [2] do_test(result::Test.ExecutionResult, orig_expr::Any)",
      "   @ Test ~/Projects/julia-1.8/usr/share/julia/stdlib/v1.8/Test/src/Test.jl:656",
      " [3] top-level scope",
      "   @ ~/Projects/julia-1.8/usr/share/julia/stdlib/v1.8/Test/src/Test.jl:464"
     ]
    }
   ],
   "source": [
    "function tenthbitto1(x::Int32)\n",
    "    ## TODO: change the 10th bit of `x` to 1\n",
    "end\n",
    "\n",
    "@test tenthbitto1(-Int32(100)) ≡ Int32(4194404)\n",
    "@test tenthbitto1(-Int32(100000010)) ≡ Int32(-95805706)"
   ]
  },
  {
   "cell_type": "markdown",
   "metadata": {},
   "source": [
    "## 4. Types\n",
    "\n",
    "Types allow for combining multiple numbers (or other types) to represent a more complicated\n",
    "object. That is, while a computer can only apply functions on $p$-bits at a time,\n",
    "these functions can be combined to perform more complicated operations on types\n",
    "that require more than $p$-bits. A simple example is a rational function.\n",
    "\n",
    "**Problem 2.1** Create a type `Rat` with two `Int` fields, `p` and `q`,\n",
    "representing a rational function including `+`, `*`, `-`, and `/`."
   ]
  },
  {
   "cell_type": "code",
   "execution_count": 26,
   "metadata": {
    "execution": {
     "iopub.execute_input": "2023-01-12T21:31:05.179698Z",
     "iopub.status.busy": "2023-01-12T21:31:05.179093Z",
     "iopub.status.idle": "2023-01-12T21:31:05.304268Z",
     "shell.execute_reply": "2023-01-12T21:31:05.303835Z"
    }
   },
   "outputs": [
    {
     "name": "stdout",
     "output_type": "stream",
     "text": [
      "\u001b[91m\u001b[1mError During Test\u001b[22m\u001b[39m at \u001b[39m\u001b[1mIn[26]:36\u001b[22m\n",
      "  Expression evaluated to non-Boolean\n",
      "  Expression: Rat(1, 2) == Rat(2, 4)\n",
      "       Value: nothing\n"
     ]
    },
    {
     "ename": "LoadError",
     "evalue": "\u001b[91mThere was an error during testing\u001b[39m",
     "output_type": "error",
     "traceback": [
      "\u001b[91mThere was an error during testing\u001b[39m",
      "",
      "Stacktrace:",
      " [1] record(ts::Test.FallbackTestSet, t::Union{Test.Error, Test.Fail})",
      "   @ Test ~/Projects/julia-1.8/usr/share/julia/stdlib/v1.8/Test/src/Test.jl:943",
      " [2] do_test(result::Test.ExecutionResult, orig_expr::Any)",
      "   @ Test ~/Projects/julia-1.8/usr/share/julia/stdlib/v1.8/Test/src/Test.jl:656",
      " [3] top-level scope",
      "   @ ~/Projects/julia-1.8/usr/share/julia/stdlib/v1.8/Test/src/Test.jl:464"
     ]
    }
   ],
   "source": [
    "# `struct` creates a new type called `Rat`\n",
    "# consisting of 128 bits, half encode `p`\n",
    "# and half encode `q`\n",
    "struct Rat\n",
    "    p::Int\n",
    "    q::Int\n",
    "end\n",
    "\n",
    "# A new instance of `Rat` is created via e.g. `Rat(1, 2)` represents 1/2\n",
    "# where the first argument specifies `p` and the second argument `q`.\n",
    "# The fields are accessed by `.`:\n",
    "\n",
    "x = Rat(1, 2)\n",
    "@test x.p == 1\n",
    "@test x.q == 2\n",
    "\n",
    "# We import `+`, `-`, `*`, `/` so we can \"overload\" these operations specifically\n",
    "# for `Rat`.\n",
    "import Base: +, -, *, /, ==\n",
    "\n",
    "# The ::Rat means the following version of `==` is only called if both arguments\n",
    "# are Rat\n",
    "function ==(x::Rat, y::Rat)\n",
    "    # TODO: implement equality, making sure to check the case where\n",
    "    # the numerator/denominator are possibly reducible\n",
    "    # Hint: `gcd` and `div` may be useful. Use `?` to find out what they do\n",
    "end\n",
    "\n",
    "# We can also support equality when `x isa Rat` and `y isa Integer`\n",
    "function ==(x::Rat, y::Integer)\n",
    "    # TODO: implement\n",
    "end\n",
    "\n",
    "# TODO: implement ==(x::Integer, y::Rat)\n",
    "\n",
    "@test Rat(1, 2) == Rat(2, 4)\n",
    "@test Rat(1, 2) ≠ Rat(1, 3)\n",
    "@test Rat(2,2) == 1\n",
    "@test 1 == Rat(2,2)\n",
    "\n",
    "## TODO: implement +, -, *, and /, \n",
    "\n",
    "@test Rat(1, 2) + Rat(1, 3) == Rat(5, 6)\n",
    "@test Rat(1, 3) - Rat(1, 2) == Rat(-1, 6)\n",
    "@test Rat(2, 3) * Rat(3, 4) == Rat(1, 2)\n",
    "@test Rat(2, 3) / Rat(3, 4) == Rat(8, 9)"
   ]
  },
  {
   "cell_type": "markdown",
   "metadata": {},
   "source": [
    "Templating is a way of letting fields take on different types.\n",
    "\n",
    "\n",
    "**Problem 2.2** Modify the above code so that `p` and `q` can be other types,\n",
    "for example, `Int16` or `BigInt`."
   ]
  },
  {
   "cell_type": "code",
   "execution_count": null,
   "metadata": {},
   "outputs": [],
   "source": []
  }
 ],
 "metadata": {
  "kernelspec": {
   "display_name": "Julia 1.8.3",
   "language": "julia",
   "name": "julia-1.8"
  },
  "language_info": {
   "file_extension": ".jl",
   "mimetype": "application/julia",
   "name": "julia",
   "version": "1.8.3"
  }
 },
 "nbformat": 4,
 "nbformat_minor": 2
}
